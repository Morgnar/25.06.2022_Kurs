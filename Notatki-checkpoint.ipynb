{
 "cells": [
  {
   "cell_type": "code",
   "execution_count": null,
   "id": "8f12f964",
   "metadata": {},
   "outputs": [],
   "source": []
  },
  {
   "cell_type": "code",
   "execution_count": null,
   "id": "9868c926",
   "metadata": {},
   "outputs": [],
   "source": [
    "# JUPYTER NOTEBOOK\n",
    "\n",
    "# Poruszanie\n",
    "Strzałki - góra, dóła\n",
    "\n",
    "## Tryby:\n",
    "edycja (Enter)\n",
    "polecenia (Esc)\n",
    "\n",
    "## Tryby Komórek\n",
    "\n",
    "code (y)\n",
    "markdown (m)\n",
    "\n",
    "## Wykonywanie komórek\n",
    "SHIFT + ENTER - wykonuje i przechodzi do kolejnej komórki\n",
    "ALT + ENTER - (option + ENTER ) - wykonuje i dodaje pod spodem komórke\n",
    "\n",
    "\n",
    "\n"
   ]
  },
  {
   "cell_type": "code",
   "execution_count": null,
   "id": "503fedea",
   "metadata": {},
   "outputs": [],
   "source": []
  },
  {
   "cell_type": "code",
   "execution_count": 1,
   "id": "8ef912cb",
   "metadata": {},
   "outputs": [],
   "source": [
    "# ESC by wyjsc do trybu poleceń\n"
   ]
  },
  {
   "cell_type": "code",
   "execution_count": null,
   "id": "c9ce843a",
   "metadata": {},
   "outputs": [],
   "source": []
  }
 ],
 "metadata": {
  "kernelspec": {
   "display_name": "Python 3 (ipykernel)",
   "language": "python",
   "name": "python3"
  },
  "language_info": {
   "codemirror_mode": {
    "name": "ipython",
    "version": 3
   },
   "file_extension": ".py",
   "mimetype": "text/x-python",
   "name": "python",
   "nbconvert_exporter": "python",
   "pygments_lexer": "ipython3",
   "version": "3.7.7"
  }
 },
 "nbformat": 4,
 "nbformat_minor": 5
}
