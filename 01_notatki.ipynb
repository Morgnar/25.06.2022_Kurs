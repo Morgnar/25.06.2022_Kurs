{
 "cells": [
  {
   "cell_type": "code",
   "execution_count": null,
   "id": "caffd00e",
   "metadata": {},
   "outputs": [],
   "source": []
  },
  {
   "cell_type": "code",
   "execution_count": null,
   "id": "f6bc164c",
   "metadata": {},
   "outputs": [],
   "source": [
    "# JUPYTER NOTEBOOK\n",
    "\n",
    "# Poruszanie\n",
    "Strzałki - góra, dóła\n",
    "\n",
    "## Tryby:\n",
    "edycja (Enter)\n",
    "polecenia (Esc)\n",
    "\n",
    "## Tryby Komórek\n",
    "\n",
    "code (y)\n",
    "markdown (m)\n",
    "\n",
    "## Wykonywanie komórek\n",
    "SHIFT + ENTER - wykonuje i przechodzi do kolejnej komórki\n",
    "ALT + ENTER - (option + ENTER ) - wykonuje i dodaje pod spodem komórke\n",
    "\n",
    "\n",
    "\n"
   ]
  },
  {
   "cell_type": "code",
   "execution_count": null,
   "id": "b08588d1",
   "metadata": {},
   "outputs": [],
   "source": []
  },
  {
   "cell_type": "code",
   "execution_count": 1,
   "id": "7e9ad7ba",
   "metadata": {},
   "outputs": [],
   "source": [
    "# ESC by wyjsc do trybu poleceń\n"
   ]
  },
  {
   "cell_type": "code",
   "execution_count": null,
   "id": "2449b24f",
   "metadata": {},
   "outputs": [],
   "source": []
  }
 ],
 "metadata": {
  "kernelspec": {
   "display_name": "Python 3 (ipykernel)",
   "language": "python",
   "name": "python3"
  },
  "language_info": {
   "codemirror_mode": {
    "name": "ipython",
    "version": 3
   },
   "file_extension": ".py",
   "mimetype": "text/x-python",
   "name": "python",
   "nbconvert_exporter": "python",
   "pygments_lexer": "ipython3",
   "version": "3.7.7"
  }
 },
 "nbformat": 4,
 "nbformat_minor": 5
}
