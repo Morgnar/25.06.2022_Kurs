{
 "cells": [
  {
   "cell_type": "code",
   "execution_count": null,
   "id": "d0024ce6",
   "metadata": {},
   "outputs": [],
   "source": []
  },
  {
   "cell_type": "code",
   "execution_count": null,
   "id": "9d3da1ef",
   "metadata": {},
   "outputs": [],
   "source": [
    "# JUPYTER NOTEBOOK\n",
    "\n",
    "# Poruszanie\n",
    "Strzałki - góra, dóła\n",
    "\n",
    "## Tryby:\n",
    "edycja (Enter)\n",
    "polecenia (Esc)\n",
    "\n",
    "## Tryby Komórek\n",
    "\n",
    "code (y)\n",
    "markdown (m)\n",
    "\n",
    "## Wykonywanie komórek\n",
    "SHIFT + ENTER - wykonuje i przechodzi do kolejnej komórki\n",
    "ALT + ENTER - (option + ENTER ) - wykonuje i dodaje pod spodem komórke\n",
    "\n",
    "### Przydatne polecenia: \n",
    "\"SHIFT\" + \"CTRL\" + \"-\" - dzieli komórkę\n",
    "\n",
    "\n",
    "\n"
   ]
  },
  {
   "cell_type": "markdown",
   "id": "8b0b0e38",
   "metadata": {},
   "source": [
    "# POWTÓRKA Z POGŁĘBIENIEM\n",
    "## Python - Ogólnie\n",
    "* Nie trzeba określać typu - Typowanie dynamiczne\n",
    "* Typowanie silne - nie ma domyślnej konwersji typów (zazwyczaj) \n",
    "* Prosty\n",
    "* Duża społeczność\n",
    "* Duża ilość bibliotek (packages, modules)\n",
    "* Wszechstronność - od muzykologii po neurobiologię\n",
    "* Garbage collector - Python oczyszcza pamięć \n",
    "* Język interpretowany\n",
    "\n",
    "### INTERPRETER:\n",
    "\n",
    "* HELP - help(str) - string \n",
    "* HELP - help(\"str\".capitalize) \n",
    "* DIR - dir()\n",
    "\n"
   ]
  },
  {
   "cell_type": "markdown",
   "id": "6fceed9a",
   "metadata": {},
   "source": [
    "# ESC by wyjsc do trybu poleceń"
   ]
  },
  {
   "cell_type": "markdown",
   "id": "531465b1",
   "metadata": {},
   "source": [
    "# Zadanie: \n",
    "utwórz modul palindrome.py\n",
    "    a w nim funkcje is_palindrome która zwróci True lub False w zależności od tego czy tekst "
   ]
  },
  {
   "cell_type": "markdown",
   "id": "a4ffa4f5",
   "metadata": {},
   "source": []
  },
  {
   "cell_type": "markdown",
   "id": "1d195b43",
   "metadata": {},
   "source": []
  },
  {
   "cell_type": "code",
   "execution_count": 2,
   "id": "5f583d16",
   "metadata": {},
   "outputs": [
    {
     "data": {
      "text/plain": [
       "3"
      ]
     },
     "execution_count": 2,
     "metadata": {},
     "output_type": "execute_result"
    }
   ],
   "source": [
    "1  + 2 "
   ]
  },
  {
   "cell_type": "code",
   "execution_count": null,
   "id": "8463ee22",
   "metadata": {},
   "outputs": [],
   "source": []
  }
 ],
 "metadata": {
  "kernelspec": {
   "display_name": "Python 3 (ipykernel)",
   "language": "python",
   "name": "python3"
  },
  "language_info": {
   "codemirror_mode": {
    "name": "ipython",
    "version": 3
   },
   "file_extension": ".py",
   "mimetype": "text/x-python",
   "name": "python",
   "nbconvert_exporter": "python",
   "pygments_lexer": "ipython3",
   "version": "3.7.7"
  }
 },
 "nbformat": 4,
 "nbformat_minor": 5
}
